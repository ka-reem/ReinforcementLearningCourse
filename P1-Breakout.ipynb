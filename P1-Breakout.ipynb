{
 "cells": [
  {
   "cell_type": "markdown",
   "id": "dfce0289",
   "metadata": {},
   "source": [
    "### 1. Import Dependencies"
   ]
  },
  {
   "cell_type": "code",
   "execution_count": 1,
   "id": "bf2fb40f",
   "metadata": {},
   "outputs": [
    {
     "name": "stderr",
     "output_type": "stream",
     "text": [
      "/Users/kareemamin/anaconda3/lib/python3.10/site-packages/tqdm/auto.py:22: TqdmWarning: IProgress not found. Please update jupyter and ipywidgets. See https://ipywidgets.readthedocs.io/en/stable/user_install.html\n",
      "  from .autonotebook import tqdm as notebook_tqdm\n"
     ]
    }
   ],
   "source": [
    "import gym\n",
    "from stable_baselines3 import A2C\n",
    "from stable_baselines3.common.vec_env import VecFrameStack\n",
    "from stable_baselines3.common.evaluation import evaluate_policy\n",
    "from stable_baselines3.common.env_util import make_atari_env\n",
    "import os"
   ]
  },
  {
   "cell_type": "markdown",
   "id": "c925710c",
   "metadata": {},
   "source": [
    "### 2. Test Environment"
   ]
  },
  {
   "cell_type": "code",
   "execution_count": 2,
   "id": "3523f8e5",
   "metadata": {},
   "outputs": [
    {
     "name": "stdout",
     "output_type": "stream",
     "text": [
      "copying koolaid.bin from ./ROMS/ROMS/Kool-Aid Man (Kool Aid Pitcher Man) (1983) (M Network, Stephen Tatsumi, Jane Terjung - Kool Aid) (MT4648) ~.bin to /Users/kareemamin/anaconda3/lib/python3.10/site-packages/atari_py/atari_roms/koolaid.bin\n",
      "copying phoenix.bin from ./ROMS/ROMS/Phoenix (1983) (Atari - GCC, Michael Feinstein, Patricia Goodson, John Mracek) (CX2673) ~.bin to /Users/kareemamin/anaconda3/lib/python3.10/site-packages/atari_py/atari_roms/phoenix.bin\n",
      "copying alien.bin from ./ROMS/ROMS/Alien (1982) (20th Century Fox Video Games, Douglas 'Dallas North' Neubauer) (11006) ~.bin to /Users/kareemamin/anaconda3/lib/python3.10/site-packages/atari_py/atari_roms/alien.bin\n",
      "copying demon_attack.bin from ./ROMS/ROMS/Demon Attack (Death from Above) (1982) (Imagic, Rob Fulop) (720000-200, 720101-1B, 720101-1C, IA3200, IA3200C, IX-006-04) ~.bin to /Users/kareemamin/anaconda3/lib/python3.10/site-packages/atari_py/atari_roms/demon_attack.bin\n",
      "copying crazy_climber.bin from ./ROMS/ROMS/Crazy Climber (1983) (Atari - Roklan, Joe Gaucher, Alex Leavens) (CX2683) ~.bin to /Users/kareemamin/anaconda3/lib/python3.10/site-packages/atari_py/atari_roms/crazy_climber.bin\n",
      "copying video_pinball.bin from ./ROMS/ROMS/Pinball (AKA Video Pinball) (Zellers).bin to /Users/kareemamin/anaconda3/lib/python3.10/site-packages/atari_py/atari_roms/video_pinball.bin\n",
      "copying yars_revenge.bin from ./ROMS/ROMS/Yars' Revenge (Time Freeze) (1982) (Atari, Howard Scott Warshaw - Sears) (CX2655 - 49-75167) ~.bin to /Users/kareemamin/anaconda3/lib/python3.10/site-packages/atari_py/atari_roms/yars_revenge.bin\n",
      "copying donkey_kong.bin from ./ROMS/ROMS/Donkey Kong (1982) (Coleco - Woodside Design Associates - Imaginative Systems Software, Garry Kitchen) (2451) ~.bin to /Users/kareemamin/anaconda3/lib/python3.10/site-packages/atari_py/atari_roms/donkey_kong.bin\n",
      "copying carnival.bin from ./ROMS/ROMS/Carnival (1982) (Coleco - Woodside Design Associates, Steve 'Jessica Stevens' Kitchen) (2468) ~.bin to /Users/kareemamin/anaconda3/lib/python3.10/site-packages/atari_py/atari_roms/carnival.bin\n",
      "copying defender.bin from ./ROMS/ROMS/Defender (1982) (Atari, Robert C. Polaro, Alan J. Murphy - Sears) (CX2609 - 49-75186) ~.bin to /Users/kareemamin/anaconda3/lib/python3.10/site-packages/atari_py/atari_roms/defender.bin\n",
      "copying gopher.bin from ./ROMS/ROMS/Gopher (Gopher Attack) (1982) (U.S. Games Corporation - JWDA, Sylvia Day, Todd Marshall, Robin McDaniel, Henry Will IV) (VC2001) ~.bin to /Users/kareemamin/anaconda3/lib/python3.10/site-packages/atari_py/atari_roms/gopher.bin\n",
      "copying krull.bin from ./ROMS/ROMS/Krull (1983) (Atari, Jerome Domurat, Dave Staugas) (CX2682) ~.bin to /Users/kareemamin/anaconda3/lib/python3.10/site-packages/atari_py/atari_roms/krull.bin\n",
      "copying pacman.bin from ./ROMS/ROMS/Pac-Man (1982) (Atari, Tod Frye) (CX2646) (PAL).bin to /Users/kareemamin/anaconda3/lib/python3.10/site-packages/atari_py/atari_roms/pacman.bin\n",
      "copying surround.bin from ./ROMS/ROMS/Surround (32 in 1) (Bit Corporation) (R320).bin to /Users/kareemamin/anaconda3/lib/python3.10/site-packages/atari_py/atari_roms/surround.bin\n",
      "copying name_this_game.bin from ./ROMS/ROMS/Name This Game (Guardians of Treasure, Octopussy) (1983) (U.S. Games Corporation - JWDA, Roger Booth, Sylvia Day, Ron Dubren, Todd Marshall, Robin McDaniel, Wes Trager, Henry Will IV) (VC1007) ~.bin to /Users/kareemamin/anaconda3/lib/python3.10/site-packages/atari_py/atari_roms/name_this_game.bin\n",
      "copying lost_luggage.bin from ./ROMS/ROMS/Lost Luggage (Airport Mayhem) (1982) (Apollo - Games by Apollo, Larry Minor, Ernie Runyon, Ed Salvo) (AP-2004) [no opening scene] ~.bin to /Users/kareemamin/anaconda3/lib/python3.10/site-packages/atari_py/atari_roms/lost_luggage.bin\n",
      "copying pong.bin from ./ROMS/ROMS/Video Olympics - Pong Sports (Paddle) (1977) (Atari, Joe Decuir - Sears) (CX2621 - 99806, 6-99806, 49-75104) ~.bin to /Users/kareemamin/anaconda3/lib/python3.10/site-packages/atari_py/atari_roms/pong.bin\n",
      "copying keystone_kapers.bin from ./ROMS/ROMS/Keystone Kapers - Raueber und Gendarm (1983) (Activision, Garry Kitchen - Ariola) (EAX-025, EAX-025-04I - 711 025-725) (PAL).bin to /Users/kareemamin/anaconda3/lib/python3.10/site-packages/atari_py/atari_roms/keystone_kapers.bin\n",
      "copying kung_fu_master.bin from ./ROMS/ROMS/Kung-Fu Master (1987) (Activision - Imagineering, Dan Kitchen, Garry Kitchen) (AG-039-04) ~.bin to /Users/kareemamin/anaconda3/lib/python3.10/site-packages/atari_py/atari_roms/kung_fu_master.bin\n",
      "copying trondead.bin from ./ROMS/ROMS/TRON - Deadly Discs (TRON Joystick) (1983) (M Network - INTV - APh Technological Consulting, Jeff Ronne, Brett Stutz) (MT5662) ~.bin to /Users/kareemamin/anaconda3/lib/python3.10/site-packages/atari_py/atari_roms/trondead.bin\n",
      "copying air_raid.bin from ./ROMS/ROMS/Air Raid (1982) (Men-A-Vision) (PAL) ~.bin to /Users/kareemamin/anaconda3/lib/python3.10/site-packages/atari_py/atari_roms/air_raid.bin\n",
      "copying king_kong.bin from ./ROMS/ROMS/King Kong (1982) (Tigervision - Software Electronics Corporation, Karl T. Olinger - Teldec) (7-001 - 3.60001 VE) (PAL).bin to /Users/kareemamin/anaconda3/lib/python3.10/site-packages/atari_py/atari_roms/king_kong.bin\n",
      "copying qbert.bin from ./ROMS/ROMS/Q-bert (1983) (Parker Brothers - Western Technologies, Dave Hampton, Tom Sloper) (PB5360) ~.bin to /Users/kareemamin/anaconda3/lib/python3.10/site-packages/atari_py/atari_roms/qbert.bin\n",
      "copying robotank.bin from ./ROMS/ROMS/Robot Tank (Robotank) (1983) (Activision, Alan Miller) (AZ-028, AG-028-04) ~.bin to /Users/kareemamin/anaconda3/lib/python3.10/site-packages/atari_py/atari_roms/robotank.bin\n",
      "copying skiing.bin from ./ROMS/ROMS/Skiing - Le Ski (1980) (Activision, Bob Whitehead) (AG-005, CAG-005, AG-005-04) ~.bin to /Users/kareemamin/anaconda3/lib/python3.10/site-packages/atari_py/atari_roms/skiing.bin\n",
      "copying hero.bin from ./ROMS/ROMS/H.E.R.O. (1984) (Activision, John Van Ryzin) (AZ-036-04) ~.bin to /Users/kareemamin/anaconda3/lib/python3.10/site-packages/atari_py/atari_roms/hero.bin\n",
      "copying star_gunner.bin from ./ROMS/ROMS/Stargunner (1983) (Telesys, Alex Leavens) (1005) ~.bin to /Users/kareemamin/anaconda3/lib/python3.10/site-packages/atari_py/atari_roms/star_gunner.bin\n",
      "copying tutankham.bin from ./ROMS/ROMS/Tutankham (1983) (Parker Brothers, Dave Engman, Dawn Stockbridge) (PB5340) ~.bin to /Users/kareemamin/anaconda3/lib/python3.10/site-packages/atari_py/atari_roms/tutankham.bin\n",
      "copying gravitar.bin from ./ROMS/ROMS/Gravitar (1983) (Atari, Dan Hitchens, Mimi Nyden) (CX2685) ~.bin to /Users/kareemamin/anaconda3/lib/python3.10/site-packages/atari_py/atari_roms/gravitar.bin\n",
      "copying montezuma_revenge.bin from ./ROMS/ROMS/Montezuma's Revenge - Featuring Panama Joe (1984) (Parker Brothers - JWDA, Henry Will IV) (PB5760) ~.bin to /Users/kareemamin/anaconda3/lib/python3.10/site-packages/atari_py/atari_roms/montezuma_revenge.bin\n",
      "copying venture.bin from ./ROMS/ROMS/Venture (1982) (Coleco, Joseph Biel) (2457) ~.bin to /Users/kareemamin/anaconda3/lib/python3.10/site-packages/atari_py/atari_roms/venture.bin\n",
      "copying pitfall.bin from ./ROMS/ROMS/Pitfall! - Pitfall Harry's Jungle Adventure (Jungle Runner) (1982) (Activision, David Crane) (AX-018, AX-018-04) ~.bin to /Users/kareemamin/anaconda3/lib/python3.10/site-packages/atari_py/atari_roms/pitfall.bin\n",
      "copying mr_do.bin from ./ROMS/ROMS/Mr. Do! (1983) (CBS Electronics - Individeo, Ed English) (4L4478) (PAL).bin to /Users/kareemamin/anaconda3/lib/python3.10/site-packages/atari_py/atari_roms/mr_do.bin\n",
      "copying laser_gates.bin from ./ROMS/ROMS/Laser Gates (AKA Innerspace) (1983) (Imagic, Dan Oliver) (720118-2A, 13208, EIX-007-04I) (PAL).bin to /Users/kareemamin/anaconda3/lib/python3.10/site-packages/atari_py/atari_roms/laser_gates.bin\n",
      "copying tennis.bin from ./ROMS/ROMS/Tennis - Le Tennis (1981) (Activision, Alan Miller) (AG-007, CAG-007) ~.bin to /Users/kareemamin/anaconda3/lib/python3.10/site-packages/atari_py/atari_roms/tennis.bin\n",
      "copying space_invaders.bin from ./ROMS/ROMS/Space Invaders (1980) (Atari, Richard Maurer - Sears) (CX2632 - 49-75153) ~.bin to /Users/kareemamin/anaconda3/lib/python3.10/site-packages/atari_py/atari_roms/space_invaders.bin\n",
      "copying up_n_down.bin from ./ROMS/ROMS/Up 'n Down (1984) (SEGA - Beck-Tech, Steve Beck, Phat Ho) (009-01) ~.bin to /Users/kareemamin/anaconda3/lib/python3.10/site-packages/atari_py/atari_roms/up_n_down.bin\n",
      "copying riverraid.bin from ./ROMS/ROMS/River Raid (1982) (Activision, Carol Shaw) (AX-020, AX-020-04) ~.bin to /Users/kareemamin/anaconda3/lib/python3.10/site-packages/atari_py/atari_roms/riverraid.bin\n",
      "copying enduro.bin from ./ROMS/ROMS/Enduro (1983) (Activision, Larry Miller) (AX-026, AX-026-04) ~.bin to /Users/kareemamin/anaconda3/lib/python3.10/site-packages/atari_py/atari_roms/enduro.bin\n",
      "copying amidar.bin from ./ROMS/ROMS/Amidar (1982) (Parker Brothers, Ed Temple) (PB5310) ~.bin to /Users/kareemamin/anaconda3/lib/python3.10/site-packages/atari_py/atari_roms/amidar.bin\n",
      "copying bowling.bin from ./ROMS/ROMS/Bowling (1979) (Atari, Larry Kaplan - Sears) (CX2628 - 6-99842, 49-75117) ~.bin to /Users/kareemamin/anaconda3/lib/python3.10/site-packages/atari_py/atari_roms/bowling.bin\n",
      "copying kangaroo.bin from ./ROMS/ROMS/Kangaroo (1983) (Atari - GCC, Patricia Goodson, Josh Littlefield, Kevin Osborn) (CX2689) ~.bin to /Users/kareemamin/anaconda3/lib/python3.10/site-packages/atari_py/atari_roms/kangaroo.bin\n"
     ]
    },
    {
     "name": "stdout",
     "output_type": "stream",
     "text": [
      "copying atlantis.bin from ./ROMS/ROMS/Atlantis (Lost City of Atlantis) (1982) (Imagic, Dennis Koble) (720103-1A, 720103-1B, IA3203, IX-010-04) ~.bin to /Users/kareemamin/anaconda3/lib/python3.10/site-packages/atari_py/atari_roms/atlantis.bin\n",
      "copying battle_zone.bin from ./ROMS/ROMS/Battlezone (1983) (Atari - GCC, Michael Feinstein, Patricia Goodson, Brad Rice) (CX2681) ~.bin to /Users/kareemamin/anaconda3/lib/python3.10/site-packages/atari_py/atari_roms/battle_zone.bin\n",
      "copying breakout.bin from ./ROMS/ROMS/Breakout - Breakaway IV (Paddle) (1978) (Atari, Brad Stewart - Sears) (CX2622 - 6-99813, 49-75107) ~.bin to /Users/kareemamin/anaconda3/lib/python3.10/site-packages/atari_py/atari_roms/breakout.bin\n",
      "copying jamesbond.bin from ./ROMS/ROMS/James Bond 007 (James Bond Agent 007) (1984) (Parker Brothers - On-Time Software, Joe Gaucher, Dan Kurczewski, Louis Marbel, Kathy Von) (PB5110) ~.bin to /Users/kareemamin/anaconda3/lib/python3.10/site-packages/atari_py/atari_roms/jamesbond.bin\n",
      "copying seaquest.bin from ./ROMS/ROMS/Seaquest (1983) (Activision, Steve Cartwright) (AX-022) ~.bin to /Users/kareemamin/anaconda3/lib/python3.10/site-packages/atari_py/atari_roms/seaquest.bin\n",
      "copying road_runner.bin from patched version of ./ROMS/ROMS/Road Runner (1989) (Atari - Bobco, Robert C. Polaro) (CX2663) ~.bin to /Users/kareemamin/anaconda3/lib/python3.10/site-packages/atari_py/atari_roms/road_runner.bin\n",
      "copying berzerk.bin from ./ROMS/ROMS/Berzerk (1982) (Atari, Dan Hitchens - Sears) (CX2650 - 49-75168) ~.bin to /Users/kareemamin/anaconda3/lib/python3.10/site-packages/atari_py/atari_roms/berzerk.bin\n",
      "copying double_dunk.bin from ./ROMS/ROMS/Double Dunk (Super Basketball) (1989) (Atari, Matthew L. Hubbard) (CX26159) ~.bin to /Users/kareemamin/anaconda3/lib/python3.10/site-packages/atari_py/atari_roms/double_dunk.bin\n",
      "copying centipede.bin from ./ROMS/ROMS/Centipede (1983) (Atari - GCC, Patricia Goodson, Josh Littlefield, Douglas B. Macrae) (CX2676) ~.bin to /Users/kareemamin/anaconda3/lib/python3.10/site-packages/atari_py/atari_roms/centipede.bin\n",
      "copying frostbite.bin from ./ROMS/ROMS/Frostbite (Iceman) (1983) (Activision, Steve Cartwright) (AX-031) ~.bin to /Users/kareemamin/anaconda3/lib/python3.10/site-packages/atari_py/atari_roms/frostbite.bin\n",
      "copying assault.bin from ./ROMS/ROMS/Assault (AKA Sky Alien) (1983) (Bomb - Onbase) (CA281).bin to /Users/kareemamin/anaconda3/lib/python3.10/site-packages/atari_py/atari_roms/assault.bin\n",
      "copying ice_hockey.bin from ./ROMS/ROMS/Ice Hockey - Le Hockey Sur Glace (1981) (Activision, Alan Miller) (AX-012, CAX-012, AX-012-04) ~.bin to /Users/kareemamin/anaconda3/lib/python3.10/site-packages/atari_py/atari_roms/ice_hockey.bin\n",
      "copying zaxxon.bin from ./ROMS/ROMS/Zaxxon (1983) (Coleco) (2454) ~.bin to /Users/kareemamin/anaconda3/lib/python3.10/site-packages/atari_py/atari_roms/zaxxon.bin\n",
      "copying elevator_action.bin from ./ROMS/ROMS/Elevator Action (1983) (Atari, Dan Hitchens, Dave Staugas) (CX26126) (Prototype) ~.bin to /Users/kareemamin/anaconda3/lib/python3.10/site-packages/atari_py/atari_roms/elevator_action.bin\n",
      "copying beam_rider.bin from ./ROMS/ROMS/Beamrider (1984) (Activision - Cheshire Engineering, David Rolfe, Larry Zwick) (AZ-037-04) ~.bin to /Users/kareemamin/anaconda3/lib/python3.10/site-packages/atari_py/atari_roms/beam_rider.bin\n",
      "copying sir_lancelot.bin from ./ROMS/ROMS/Sir Lancelot (1983) (Xonox - K-Tel Software - Product Guild, Anthony R. Henderson) (99006, 6220) (PAL).bin to /Users/kareemamin/anaconda3/lib/python3.10/site-packages/atari_py/atari_roms/sir_lancelot.bin\n",
      "copying wizard_of_wor.bin from ./ROMS/ROMS/Wizard of Wor (1982) (CBS Electronics - Roklan, Joe Hellesen, Joe Wagner) (M8774, M8794) ~.bin to /Users/kareemamin/anaconda3/lib/python3.10/site-packages/atari_py/atari_roms/wizard_of_wor.bin\n",
      "copying bank_heist.bin from ./ROMS/ROMS/Bank Heist (Bonnie & Clyde, Cops 'n' Robbers, Hold-Up, Roaring 20's) (1983) (20th Century Fox Video Games, Bill Aspromonte) (11012) ~.bin to /Users/kareemamin/anaconda3/lib/python3.10/site-packages/atari_py/atari_roms/bank_heist.bin\n",
      "copying ms_pacman.bin from ./ROMS/ROMS/Ms. Pac-Man (1983) (Atari - GCC, Mark S. Ackerman, Patricia Goodson, Josh Littlefield, Douglas B. Macrae, Glenn Parker) (CX2675) ~.bin to /Users/kareemamin/anaconda3/lib/python3.10/site-packages/atari_py/atari_roms/ms_pacman.bin\n",
      "copying private_eye.bin from ./ROMS/ROMS/Private Eye (1984) (Activision, Bob Whitehead) (AG-034-04) ~.bin to /Users/kareemamin/anaconda3/lib/python3.10/site-packages/atari_py/atari_roms/private_eye.bin\n",
      "copying journey_escape.bin from ./ROMS/ROMS/Journey Escape (1983) (Data Age, J. Ray Dettling) (112-006) ~.bin to /Users/kareemamin/anaconda3/lib/python3.10/site-packages/atari_py/atari_roms/journey_escape.bin\n",
      "copying asterix.bin from ./ROMS/ROMS/Asterix (AKA Taz) (1984) (Atari, Jerome Domurat, Steve Woita) (CX2696).bin to /Users/kareemamin/anaconda3/lib/python3.10/site-packages/atari_py/atari_roms/asterix.bin\n",
      "copying boxing.bin from ./ROMS/ROMS/Boxing - La Boxe (1980) (Activision, Bob Whitehead) (AG-002, CAG-002, AG-002-04) ~.bin to /Users/kareemamin/anaconda3/lib/python3.10/site-packages/atari_py/atari_roms/boxing.bin\n",
      "copying fishing_derby.bin from ./ROMS/ROMS/Fishing Derby (1980) (Activision, David Crane) (AG-004) ~.bin to /Users/kareemamin/anaconda3/lib/python3.10/site-packages/atari_py/atari_roms/fishing_derby.bin\n",
      "copying kaboom.bin from ./ROMS/ROMS/Kaboom! (Paddle) (1981) (Activision, Larry Kaplan, David Crane) (AG-010, CAG-010, AG-010-04) ~.bin to /Users/kareemamin/anaconda3/lib/python3.10/site-packages/atari_py/atari_roms/kaboom.bin\n",
      "copying freeway.bin from ./ROMS/ROMS/Freeway (1981) (Activision, David Crane) (AG-009, AG-009-04) ~.bin to /Users/kareemamin/anaconda3/lib/python3.10/site-packages/atari_py/atari_roms/freeway.bin\n",
      "copying pooyan.bin from ./ROMS/ROMS/Pooyan (1983) (Konami) (RC 100-X 02) ~.bin to /Users/kareemamin/anaconda3/lib/python3.10/site-packages/atari_py/atari_roms/pooyan.bin\n",
      "copying asteroids.bin from ./ROMS/ROMS/Asteroids (1981) (Atari, Brad Stewart - Sears) (CX2649 - 49-75163) [no copyright] ~.bin to /Users/kareemamin/anaconda3/lib/python3.10/site-packages/atari_py/atari_roms/asteroids.bin\n",
      "copying frogger.bin from ./ROMS/ROMS/Frogger (1982) (Parker Brothers, Ed English, David Lamkins) (PB5300) ~.bin to /Users/kareemamin/anaconda3/lib/python3.10/site-packages/atari_py/atari_roms/frogger.bin\n",
      "copying chopper_command.bin from ./ROMS/ROMS/Chopper Command (1982) (Activision, Bob Whitehead) (AX-015, AX-015-04) ~.bin to /Users/kareemamin/anaconda3/lib/python3.10/site-packages/atari_py/atari_roms/chopper_command.bin\n",
      "copying time_pilot.bin from ./ROMS/ROMS/Time Pilot (1983) (Coleco - Woodside Design Associates, Harley H. Puthuff Jr.) (2663) ~.bin to /Users/kareemamin/anaconda3/lib/python3.10/site-packages/atari_py/atari_roms/time_pilot.bin\n",
      "copying galaxian.bin from ./ROMS/ROMS/Galaxian (1983) (Atari - GCC, Mark S. Ackerman, Tom Calderwood, Patricia Goodson, Glenn Parker) (CX2684) ~.bin to /Users/kareemamin/anaconda3/lib/python3.10/site-packages/atari_py/atari_roms/galaxian.bin\n",
      "copying adventure.bin from ./ROMS/ROMS/Adventure (1980) (Atari, Warren Robinett) (CX2613, CX2613P) (PAL).bin to /Users/kareemamin/anaconda3/lib/python3.10/site-packages/atari_py/atari_roms/adventure.bin\n",
      "copying solaris.bin from ./ROMS/ROMS/Solaris (The Last Starfighter, Star Raiders II, Universe) (1986) (Atari, Douglas Neubauer, Mimi Nyden) (CX26136) ~.bin to /Users/kareemamin/anaconda3/lib/python3.10/site-packages/atari_py/atari_roms/solaris.bin\n"
     ]
    }
   ],
   "source": [
    "# import atari_py\n",
    "!python -m atari_py.import_roms ./ROMS/ROMS"
   ]
  },
  {
   "cell_type": "markdown",
   "id": "d452305f",
   "metadata": {},
   "source": [
    "### 3. Vectorise Enviornment and Train Model"
   ]
  },
  {
   "cell_type": "code",
   "execution_count": null,
   "id": "6ea0ae8a",
   "metadata": {},
   "outputs": [],
   "source": []
  },
  {
   "cell_type": "markdown",
   "id": "66fd8410",
   "metadata": {},
   "source": [
    "### 4. Save and Reload Model"
   ]
  },
  {
   "cell_type": "code",
   "execution_count": null,
   "id": "9d23f59e",
   "metadata": {},
   "outputs": [],
   "source": []
  },
  {
   "cell_type": "markdown",
   "id": "67603630",
   "metadata": {},
   "source": [
    "### 5. Evaluate and Test"
   ]
  },
  {
   "cell_type": "code",
   "execution_count": null,
   "id": "89a1d8e7",
   "metadata": {},
   "outputs": [],
   "source": []
  }
 ],
 "metadata": {
  "kernelspec": {
   "display_name": "Python 3 (ipykernel)",
   "language": "python",
   "name": "python3"
  },
  "language_info": {
   "codemirror_mode": {
    "name": "ipython",
    "version": 3
   },
   "file_extension": ".py",
   "mimetype": "text/x-python",
   "name": "python",
   "nbconvert_exporter": "python",
   "pygments_lexer": "ipython3",
   "version": "3.10.8"
  }
 },
 "nbformat": 4,
 "nbformat_minor": 5
}
